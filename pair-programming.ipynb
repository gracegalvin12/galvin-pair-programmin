{
 "cells": [
  {
   "cell_type": "code",
   "execution_count": 2,
   "id": "1df9e73f-4978-43cb-85d3-1942e6fb2b9c",
   "metadata": {},
   "outputs": [
    {
     "name": "stdout",
     "output_type": "stream",
     "text": [
      "[0.05263158 1.         0.01052632]\n"
     ]
    }
   ],
   "source": [
    "import numpy as np\n",
    "\n",
    "def scaled_values(data):\n",
    "    assert (data >= 0).all(), \"array must be positive\" # nice use of all function\n",
    "    return (data/(np.nanmax(data))) # makes everything positive, is this needed?\n",
    "array = [10, 190, 2]\n",
    "ar = np.array(array)\n",
    "print(scaled_values(ar))"
   ]
  },
  {
   "cell_type": "code",
   "execution_count": 5,
   "id": "02873641-19af-4f76-a137-c66ebb92c562",
   "metadata": {},
   "outputs": [],
   "source": [
    "# test function, will print nothing if correct\n",
    "def test_scaled_values(x):\n",
    "    assert test_scaled_values(x) == array([0.25, 0.5, 1.])\n",
    "    ar=[15,30,60]\n",
    "    x=np.array(ar)\n",
    "    "
   ]
  },
  {
   "cell_type": "code",
   "execution_count": null,
   "id": "156183f8-ddbd-43db-8417-0e85851da7c0",
   "metadata": {},
   "outputs": [],
   "source": []
  }
 ],
 "metadata": {
  "kernelspec": {
   "display_name": "Python 3 (ipykernel)",
   "language": "python",
   "name": "python3"
  },
  "language_info": {
   "codemirror_mode": {
    "name": "ipython",
    "version": 3
   },
   "file_extension": ".py",
   "mimetype": "text/x-python",
   "name": "python",
   "nbconvert_exporter": "python",
   "pygments_lexer": "ipython3",
   "version": "3.9.13"
  }
 },
 "nbformat": 4,
 "nbformat_minor": 5
}
