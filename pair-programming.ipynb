{
 "cells": [
  {
   "cell_type": "code",
   "execution_count": 28,
   "id": "1df9e73f-4978-43cb-85d3-1942e6fb2b9c",
   "metadata": {},
   "outputs": [
    {
     "name": "stdout",
     "output_type": "stream",
     "text": [
      "[0.05263158 1.         0.01052632]\n"
     ]
    }
   ],
   "source": [
    "import numpy as np\n",
    "\n",
    "def scaled_values(data):\n",
    "    assert (data >= 0).all(), \"array must be positive\"\n",
    "    return (data/(np.nanmax(data)))\n",
    "array = [10, 190, 2]\n",
    "ar = np.array(array)\n",
    "print(scaled_values(ar))"
   ]
  },
  {
   "cell_type": "code",
   "execution_count": null,
   "id": "02873641-19af-4f76-a137-c66ebb92c562",
   "metadata": {},
   "outputs": [],
   "source": []
  },
  {
   "cell_type": "code",
   "execution_count": null,
   "id": "156183f8-ddbd-43db-8417-0e85851da7c0",
   "metadata": {},
   "outputs": [],
   "source": []
  }
 ],
 "metadata": {
  "kernelspec": {
   "display_name": "Python 3 (ipykernel)",
   "language": "python",
   "name": "python3"
  },
  "language_info": {
   "codemirror_mode": {
    "name": "ipython",
    "version": 3
   },
   "file_extension": ".py",
   "mimetype": "text/x-python",
   "name": "python",
   "nbconvert_exporter": "python",
   "pygments_lexer": "ipython3",
   "version": "3.9.13"
  }
 },
 "nbformat": 4,
 "nbformat_minor": 5
}
